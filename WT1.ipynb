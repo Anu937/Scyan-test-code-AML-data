{
 "cells": [
  {
   "cell_type": "markdown",
   "id": "13985f99-4771-417b-a973-c711d8f71bed",
   "metadata": {},
   "source": [
    "# Checking if scyan is installed"
   ]
  },
  {
   "cell_type": "code",
   "execution_count": null,
   "id": "27f662f1-e6ce-4e9e-8005-c2b574dc736a",
   "metadata": {},
   "outputs": [],
   "source": [
    "try:\n",
    "    import scyan\n",
    "    print(\"scyan is installed.\")\n",
    "except ImportError:\n",
    "    print(\"scyan is not installed. Installing now...\")\n",
    "    !pip install scyan"
   ]
  },
  {
   "cell_type": "code",
   "execution_count": null,
   "id": "0c8c1c99-5551-4612-b23a-b83cd30c46b1",
   "metadata": {},
   "outputs": [],
   "source": [
    "import anndata\n",
    "from pathlib import Path\n",
    "import pandas as pd\n",
    "import time\n",
    "import matplotlib.pyplot as plt"
   ]
  },
  {
   "cell_type": "markdown",
   "id": "9d78c876-19db-4eee-bbc0-21ef1edb4cdd",
   "metadata": {},
   "source": [
    "# Concatenation of FSC files (WT1)"
   ]
  },
  {
   "cell_type": "code",
   "execution_count": null,
   "id": "7abd7705-f608-4236-8678-4e1cf44c0d65",
   "metadata": {},
   "outputs": [],
   "source": [
    "import anndata\n",
    "import scyan  # Assurez-vous que scyan est installé et importé correctement\n",
    "from pathlib import Path\n",
    "\n",
    "# Chemin du dossier contenant les fichiers FCS\n",
    "folder_path = Path(r\"C:/Users/anush/Desktop/M1 BME/S2/stage/fcs_data/WT-1\")\n",
    "\n",
    "# Lister les chemins des fichiers FCS\n",
    "fcs_paths = [path for path in folder_path.iterdir() if path.suffix == \".fcs\"]\n",
    "\n",
    "def read_one(path):\n",
    "    # Lire le fichier FCS en utilisant scyan\n",
    "    adata_WT1 = scyan.read_fcs(path)\n",
    "    # Ajouter des informations supplémentaires à adata_WT1.obs\n",
    "    adata_WT1.obs[\"file\"] = path.stem  # Nom du fichier sans extension\n",
    "    adata_WT1.obs[\"batch\"] = \"NA\"  # Remplacez \"NA\" par le batch correspondant si nécessaire\n",
    "    return adata_WT1\n",
    "\n",
    "# Lire tous les fichiers FCS et les combiner en un seul objet AnnData\n",
    "adata_WT1 = anndata.concat([read_one(p) for p in fcs_paths], index_unique=\"-\")\n",
    "\n",
    "# Afficher les informations pour vérifier\n",
    "print(adata_WT1)\n",
    "print(adata_WT1.obs.head())"
   ]
  },
  {
   "cell_type": "markdown",
   "id": "c8b6e456-5a64-4ba2-957f-69346027f04d",
   "metadata": {},
   "source": [
    "# Preprocessing "
   ]
  },
  {
   "cell_type": "code",
   "execution_count": null,
   "id": "b41254d0-4415-453d-9285-fa749ac89c0b",
   "metadata": {},
   "outputs": [],
   "source": [
    "# Prétraitement des données\n",
    "is_cytof = True\n",
    "\n",
    "if is_cytof:\n",
    "    # Recommandé pour les données CyTOF\n",
    "    scyan.preprocess.asinh_transform(adata_WT1)\n",
    "else:\n",
    "    # Recommandé pour la cytométrie en flux ou le flux spectral\n",
    "    scyan.preprocess.auto_logicle_transform(adata_WT1)\n",
    "\n",
    "# Mise à l'échelle des données\n",
    "scyan.preprocess.scale(adata_WT1)\n",
    "\n",
    "# Vérification après prétraitement\n",
    "print(\"Données après prétraitement :\")\n",
    "print(adata_WT1)\n",
    "print(adata_WT1.obs.head())"
   ]
  },
  {
   "cell_type": "markdown",
   "id": "407ae475-5676-451b-a25e-8c11d12863b2",
   "metadata": {},
   "source": [
    "# Knowledge table"
   ]
  },
  {
   "cell_type": "code",
   "execution_count": null,
   "id": "1033d6f9-84e3-4c13-848e-113fc316ef8f",
   "metadata": {},
   "outputs": [],
   "source": [
    "import pandas as pd\n",
    "\n",
    "# Path to your CSV file\n",
    "file_path = 'C:/Users/anush/Desktop/M1 BME/S2/stage/Report/Table_ref_V2.csv'\n",
    "\n",
    "# Read the CSV file\n",
    "table = pd.read_csv(file_path, index_col=[0, 1])\n",
    "\n",
    "# Display the first 5 rows\n",
    "table.head()"
   ]
  },
  {
   "cell_type": "markdown",
   "id": "e85bcc03-86f1-46c2-8ea3-e061d3e953e0",
   "metadata": {},
   "source": [
    "# Sanity check"
   ]
  },
  {
   "cell_type": "code",
   "execution_count": null,
   "id": "af24f346-76a7-44a2-be2e-31d195f4dc6f",
   "metadata": {},
   "outputs": [],
   "source": [
    "# Check that table.columns are present in adata_WT1.var_names\n",
    "missing_markers = [col for col in table.columns if col not in adata_WT1.var_names]\n",
    "if missing_markers:\n",
    "    print(\"Markers in table.columns not present in adata_WT1.var_names:\")\n",
    "    print(missing_markers)\n",
    "else:\n",
    "    print(\"All markers in table.columns are present in adata_WT1.var_names.\")"
   ]
  },
  {
   "cell_type": "markdown",
   "id": "0c2d0fc9-d19f-4473-8fa5-ae2e482440be",
   "metadata": {},
   "source": [
    "# Duplicate marker expression checking"
   ]
  },
  {
   "cell_type": "code",
   "execution_count": null,
   "id": "1ba310f1-6074-4121-a193-dc711e5a78e3",
   "metadata": {},
   "outputs": [],
   "source": [
    "# Check for duplicate rows based on the markers expression\n",
    "duplicates = table[table.duplicated(keep=False)]\n",
    "\n",
    "if not duplicates.empty:\n",
    "    print(\"Duplicate rows found based on marker expressions:\")\n",
    "    print(duplicates)\n",
    "else:\n",
    "    print(\"No duplicates found based on marker expressions.\")"
   ]
  },
  {
   "cell_type": "markdown",
   "id": "e7c46e6b-9127-4e08-96a9-29a741962090",
   "metadata": {},
   "source": [
    "# Time point column creation"
   ]
  },
  {
   "cell_type": "code",
   "execution_count": null,
   "id": "91b0dfcf-be37-4cee-aed2-010b0eca7d90",
   "metadata": {},
   "outputs": [],
   "source": [
    "# Map time points and treatments\n",
    "def map_time_point(filename):\n",
    "    parts = filename.split('_')\n",
    "    if len(parts) >= 2:\n",
    "        day = parts[1]  # Extract day (e.g., \"Day0\", \"Day7\", \"Day10\")\n",
    "        return day\n",
    "    return 'Unknown'\n",
    "\n",
    "def map_treatment(filename):\n",
    "    parts = filename.split('_')\n",
    "    if len(parts) >= 3:\n",
    "        treatment = parts[2]  # Extract treatment if available\n",
    "        return treatment\n",
    "    return 'None'\n",
    "\n",
    "adata_WT1.obs[\"time_point\"] = adata_WT1.obs[\"file\"].map(map_time_point)\n",
    "adata_WT1.obs[\"treatment\"] = adata_WT1.obs[\"file\"].map(map_treatment)\n",
    "\n",
    "adata_WT1.obs[\"time_point\"] = pd.Categorical(\n",
    "    adata_WT1.obs[\"time_point\"],\n",
    "    categories=[\"Day0\", \"Day7\", \"Day10\"],\n",
    "    ordered=True\n",
    ")\n",
    "\n",
    "print(\"Unique time points (with order):\")\n",
    "print(adata_WT1.obs[\"time_point\"].unique())\n",
    "print(\"Unique treatments:\")\n",
    "print(adata_WT1.obs[\"treatment\"].unique())\n",
    "\n",
    "print(adata_WT1.obs.head(8))"
   ]
  },
  {
   "cell_type": "markdown",
   "id": "9d50ffc0-f912-41c4-b2f4-f56ad77b8370",
   "metadata": {},
   "source": [
    "# UMAP"
   ]
  },
  {
   "cell_type": "code",
   "execution_count": null,
   "id": "837626b8-1a15-4367-bde5-c388e1ff0f62",
   "metadata": {},
   "outputs": [],
   "source": [
    "import time\n",
    "\n",
    "# Commencez à mesurer le temps\n",
    "start_time = time.time()\n",
    "\n",
    "# Exécution de la fonction UMAP\n",
    "scyan.tools.umap(adata_WT1, markers=table.columns)\n",
    "\n",
    "# Arrêtez de mesurer le temps et calculez le temps écoulé\n",
    "end_time = time.time()\n",
    "elapsed_time = end_time - start_time\n",
    "\n",
    "# Affichez le temps écoulé\n",
    "print(f\"Temps écoulé pour le calcul de l'UMAP : {elapsed_time:.2f} secondes\")"
   ]
  },
  {
   "cell_type": "markdown",
   "id": "7c6ad642-fa9c-4b33-b17a-4e0ede5abd43",
   "metadata": {},
   "source": [
    "# Saving the Scyan Project"
   ]
  },
  {
   "cell_type": "code",
   "execution_count": null,
   "id": "a21e8304-68a7-4e1d-8aef-1d97c16aae17",
   "metadata": {},
   "outputs": [],
   "source": [
    "# Ajouter les données à scyan sans spécifier de chemin\n",
    "scyan.data.add(\"WT1\", adata_WT1, table)"
   ]
  },
  {
   "cell_type": "markdown",
   "id": "758b4411-a7cc-4167-adad-fdae13a836b7",
   "metadata": {},
   "source": [
    "# Loading the Scyan project"
   ]
  },
  {
   "cell_type": "code",
   "execution_count": null,
   "id": "d13d88b5-d5bc-4ce3-bfe6-fceda3288193",
   "metadata": {},
   "outputs": [],
   "source": [
    "# Load the data\n",
    "adata_WT1, table = scyan.data.load(\"WT1\")\n",
    "\n",
    "# Display basic information about the data\n",
    "print(\"AnnData object:\")\n",
    "print(adata_WT1)\n",
    "print(\"\\nMarker table:\")\n",
    "print(table.head())\n",
    "\n",
    "# Proceed with further analysis or model training"
   ]
  },
  {
   "cell_type": "markdown",
   "id": "b97f9a54-530b-4daf-aeef-f128a054300b",
   "metadata": {},
   "source": [
    "# Model fitting"
   ]
  },
  {
   "cell_type": "code",
   "execution_count": null,
   "id": "812467f0-5279-49ec-a61b-26acf0b0fcc2",
   "metadata": {},
   "outputs": [],
   "source": [
    "\n",
    "# Recharger les données si nécessaire\n",
    "adata_WT1, table = scyan.data.load(\"WT1\")\n",
    "\n",
    "# Initialiser le modèle avec les données préparées\n",
    "model = scyan.Scyan(adata_WT1, table,prior_std=0.25, lr=0.0001) # 1st training\n",
    "#model = scyan.Scyan(adata, table, prior_std=0.25, lr=0.0001) : \n",
    "# Ajuster le modèle\n",
    "model.fit()"
   ]
  },
  {
   "cell_type": "markdown",
   "id": "281ea5d9-2df9-4fc1-b404-7f8815973c2b",
   "metadata": {},
   "source": [
    "# 1st prediction"
   ]
  },
  {
   "cell_type": "code",
   "execution_count": null,
   "id": "a18dfdd3-4740-4ebc-8cd3-4ad9106293aa",
   "metadata": {},
   "outputs": [],
   "source": [
    "model.predict()"
   ]
  },
  {
   "cell_type": "markdown",
   "id": "ed78db11-7320-445e-8ee5-e7060e0c01df",
   "metadata": {},
   "source": [
    "# Checking the threshold"
   ]
  },
  {
   "cell_type": "code",
   "execution_count": null,
   "id": "619df1bc-5f42-448d-9ec9-788e9483331a",
   "metadata": {},
   "outputs": [],
   "source": [
    "scyan.plot.log_prob_threshold(adata_WT1)"
   ]
  },
  {
   "cell_type": "markdown",
   "id": "2e6df24c-0501-4a82-97ec-56ee97cd2728",
   "metadata": {},
   "source": [
    "# UMAP visualization"
   ]
  },
  {
   "cell_type": "code",
   "execution_count": null,
   "id": "221b13c1-d265-4172-a18e-78dcb8adf57d",
   "metadata": {},
   "outputs": [],
   "source": [
    "# Predict cell populations using the model\n",
    "# Adjust the `log_prob_th` parameter to set a threshold for log-probabilities\n",
    "threshold = -40\n",
    "\n",
    "# Perform the prediction with the specified threshold\n",
    "model.predict(log_prob_th=threshold)\n",
    "\n",
    "# Optionally, you can print or log the threshold to confirm the value used\n",
    "print(f\"Prediction performed with log probability threshold set to: {threshold}\")"
   ]
  },
  {
   "cell_type": "markdown",
   "id": "21e61a05-796c-493c-af84-767bac1b70cb",
   "metadata": {},
   "source": [
    "# Color Palette"
   ]
  },
  {
   "cell_type": "code",
   "execution_count": null,
   "id": "c490b556-a7f0-4cca-9c19-dac489bb597e",
   "metadata": {},
   "outputs": [],
   "source": [
    "# Define the color palettes for UMAP visualization\n",
    "# Define the updated unique color palette for UMAP visualization\n",
    "color_palette = {\n",
    "    'LSC_CD34+_CD117+': '#D9534F',         # Red\n",
    "    'LSC_CD34+_CD117-': '#C8102E',         # Dark Red\n",
    "    'LSC_CD34-_CD117+': '#B02E26',         # Crimson\n",
    "    'LSC_CD34-_CD117-': '#A7322A',         # Dark Crimson\n",
    "    'HSC_CD117+': '#1E88E5',               # Blue\n",
    "    'HSC_CD117-': '#1976D2',               # Dark Blue\n",
    "    'CD34+CD38+CD123+ HSPCs': '#66BB6A',   # Light Green\n",
    "    'CMP': '#4CAF50',                      # Green\n",
    "    'MEP': '#43A047',                      # Dark Green\n",
    "    'GMP': '#388E3C',                      # Olive Green\n",
    "    'pDC': '#5C6BC0',                     # Medium Blue\n",
    "    'NK': '#26A69A',                      # Teal\n",
    "    'NK-CD62L-': '#004D40',               # Dark Teal\n",
    "    'B cells': '#FFCA28',                 # Yellow\n",
    "    'Plasma B': '#FFB300',                # Amber\n",
    "    'Granulocytes': '#90A4AE',            # Grey\n",
    "    'Basophils': '#78909C',               # Blue Grey\n",
    "    'Naive T cells': '#AB47BC',           # Purple\n",
    "    'CD45RA+ Memory Effector T cell': '#9C27B0', # Dark Purple\n",
    "    'Central Memory T cell': '#8E24AA',   # Medium Purple\n",
    "    'Transitional & Memory effector T cell': '#7B1FA2', # Deep Purple\n",
    "    'Erythrocytes_CD45+': '#E57373',      # Light Coral\n",
    "    'Erythrocytes_CD45-': '#F44336',      # Red\n",
    "    'CD11B+_Monocytes': '#BCAAA4',        # Light Brown\n",
    "    'CD11B+_Monocytes*': '#A1887F',       # Medium Brown\n",
    "    'Promonocytes': '#D7CCC8',            # Beige\n",
    "    'Mono_Myeloblastes_CD15+': '#7CB342', # Olive Drab\n",
    "    'Mono_Myeloblastes_CD15-': '#9CCC65', # Light Olive\n",
    "}\n",
    "\n",
    "# Define the updated hierarchical color palette\n",
    "hierarchy_palette = {\n",
    "    'LSC': '#D9534F',                    # Red\n",
    "    'HSC': '#1E88E5',                    # Blue\n",
    "    'Progenitors': '#66BB6A',            # Light Green\n",
    "    'Dendritic': '#5C6BC0',              # Medium Blue\n",
    "    'NK': '#26A69A',                    # Teal\n",
    "    'B Cells': '#FFCA28',               # Yellow\n",
    "    'Myeloid': '#90A4AE',               # Grey\n",
    "    'T Cells': '#AB47BC',               # Purple\n",
    "    'Erythrocytes': '#E57373',          # Light Coral\n",
    "    'Monocytes': '#BCAAA4',             # Light Brown\n",
    "    'NKCD62L-': '#004D40',              # Dark Teal\n",
    "}"
   ]
  },
  {
   "cell_type": "markdown",
   "id": "f82815c3-1cb2-451a-b818-41b698cf44be",
   "metadata": {},
   "source": [
    "# UMAP level plotting"
   ]
  },
  {
   "cell_type": "code",
   "execution_count": null,
   "id": "6b442e84-59e5-476c-88dc-ee084006d82b",
   "metadata": {},
   "outputs": [],
   "source": [
    "import matplotlib.pyplot as plt\n",
    "import scyan\n",
    "\n",
    "# Create and display the UMAP plot\n",
    "fig, ax = plt.subplots(figsize=(7, 7))\n",
    "\n",
    "# Generate the UMAP plot\n",
    "scyan.plot.umap(adata_WT1, color=\"scyan_pop_level\", ax=ax, title=\"Scyan predictions_WT1\",palette=hierarchy_palette)\n",
    "\n",
    "# Render the plot to ensure it's generated correctly\n",
    "plt.show()\n",
    "\n",
    "# Close the figure to free memory\n",
    "plt.close(fig)\n"
   ]
  },
  {
   "cell_type": "markdown",
   "id": "20861913-3af2-4f96-ae98-17f295074824",
   "metadata": {},
   "source": [
    "# UMAP plotting (normal)"
   ]
  },
  {
   "cell_type": "code",
   "execution_count": null,
   "id": "3d3d948c-d7f4-4182-9f85-bfd68195bc71",
   "metadata": {},
   "outputs": [],
   "source": [
    "import matplotlib.pyplot as plt\n",
    "import scyan\n",
    "\n",
    "# Create a new figure with a larger size\n",
    "fig, ax = plt.subplots(figsize=(7, 7))  # Adjust width and height as needed\n",
    "\n",
    "# Plot UMAP with the customized figure size\n",
    "scyan.plot.umap(adata_WT1, color=\"scyan_pop\", ax=ax, title=\"Scyan predictions_WT1\",palette=color_palette)\n",
    "\n",
    "# Display the plot\n",
    "plt.show()"
   ]
  },
  {
   "cell_type": "markdown",
   "id": "fb2f0ee1-21b2-48fd-9c8c-a95fd609e908",
   "metadata": {},
   "source": [
    "# UMAP for each file"
   ]
  },
  {
   "cell_type": "code",
   "execution_count": null,
   "id": "220a61e3-df11-4e00-bd8e-ce75a3cc1e2c",
   "metadata": {},
   "outputs": [],
   "source": [
    "import numpy as np\n",
    "import scyan\n",
    "\n",
    "# Loop over each unique file in the 'file' column of the obs DataFrame for adata_WT1\n",
    "for filename in np.unique(adata_WT1.obs[\"file\"]):\n",
    "    # Subset the data to include only the cells from the current file\n",
    "    adata_one_file = adata_WT1[adata_WT1.obs[\"file\"] == filename]\n",
    "    \n",
    "    # Plot the UMAP for the current subset of data\n",
    "    scyan.plot.umap(adata_one_file, color=\"scyan_pop\", title=filename, palette=color_palette)"
   ]
  },
  {
   "cell_type": "markdown",
   "id": "99a0b2e8-114d-4457-a79e-59639a69a604",
   "metadata": {},
   "source": [
    "# Specific cell population dynamic plotting"
   ]
  },
  {
   "cell_type": "code",
   "execution_count": null,
   "id": "ec0dd46d-77ad-4637-8ab6-e552dbf0b8fc",
   "metadata": {},
   "outputs": [],
   "source": [
    "import scyan\n",
    "\n",
    "# Define the special cell populations of interest\n",
    "special_populations = [\n",
    "    'Granulocytes',\n",
    "    'Basophils',\n",
    "    'CD11B+_Monocytes',\n",
    "    'CD11B+_Monocytes*',\n",
    "    'Promonocytes',\n",
    "    'Mono_Myeloblastes_CD15+',\n",
    "    'Mono_Myeloblastes_CD15-',\n",
    "    'CMP',\n",
    "    'MEP',\n",
    "    'GMP',\n",
    "    'Erythrocytes_CD45+',\n",
    "    'Erythrocytes_CD45-',\n",
    "    'LSC_CD34+_CD117+',\n",
    "    'LSC_CD34+_CD117-',\n",
    "    'LSC_CD34-_CD117+',\n",
    "    'LSC_CD34-_CD117-'\n",
    "]\n",
    "\n",
    "# Filter the AnnData object to include only the myeloid populations\n",
    "adata_myeloid = adata_WT1[adata_WT1.obs['scyan_pop'].isin(special_populations)]\n",
    "\n",
    "# Plot population dynamics for myeloid cells\n",
    "scyan.plot.pop_dynamics(\n",
    "    adata_myeloid,        # Use the filtered AnnData object\n",
    "    time_key=\"time_point\",  # Column name for time points\n",
    "    groupby=\"treatment\",    # Column name for grouping\n",
    "    key=\"scyan_pop\"         # Column name for cell populations\n",
    ")\n"
   ]
  },
  {
   "cell_type": "code",
   "execution_count": null,
   "id": "64df00f7-5521-410e-a943-2f342b06bd65",
   "metadata": {},
   "outputs": [],
   "source": []
  }
 ],
 "metadata": {
  "kernelspec": {
   "display_name": "Python 3 (ipykernel)",
   "language": "python",
   "name": "python3"
  },
  "language_info": {
   "codemirror_mode": {
    "name": "ipython",
    "version": 3
   },
   "file_extension": ".py",
   "mimetype": "text/x-python",
   "name": "python",
   "nbconvert_exporter": "python",
   "pygments_lexer": "ipython3",
   "version": "3.9.13"
  }
 },
 "nbformat": 4,
 "nbformat_minor": 5
}
